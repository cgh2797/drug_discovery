{
 "cells": [
  {
   "cell_type": "code",
   "execution_count": 1,
   "metadata": {},
   "outputs": [],
   "source": [
    "import sys\n",
    "sys.path.append('/usr/local/lib/python3.7/site-packages/')\n",
    "\n",
    "from rdkit import Chem\n",
    "from rdkit.Chem import Draw\n",
    "from rdkit.Chem.Draw import IPythonConsole\n",
    "from rdkit.Chem import Descriptors\n",
    "from rdkit.Chem import AllChem\n",
    "from rdkit import DataStructs\n",
    "\n",
    "from rdkit.Chem import rdMolDescriptors\n",
    "\n",
    "import numpy as np\n",
    "import pandas as pd\n",
    "\n",
    "from rdkit.Chem.Scaffolds import MurckoScaffold\n",
    "from rdkit.Chem.Scaffolds.MurckoScaffold import MurckoScaffoldSmiles"
   ]
  },
  {
   "cell_type": "code",
   "execution_count": 2,
   "metadata": {},
   "outputs": [],
   "source": [
    "data= pd.read_csv('scaffold_smiles.txt')"
   ]
  },
  {
   "cell_type": "code",
   "execution_count": 3,
   "metadata": {},
   "outputs": [],
   "source": [
    "smiles_list=data['smiles']"
   ]
  },
  {
   "cell_type": "code",
   "execution_count": 4,
   "metadata": {},
   "outputs": [],
   "source": [
    "sca_list=[]\n",
    "for smiles in smiles_list:\n",
    "    tmp=MurckoScaffoldSmiles(smiles)\n",
    "    sca_list.append(tmp)"
   ]
  },
  {
   "cell_type": "code",
   "execution_count": 5,
   "metadata": {},
   "outputs": [
    {
     "data": {
      "text/plain": [
       "['O=C(CCCc1ccccc1)N1CCn2cnnc2C1',\n",
       " 'c1ccc(C2CCC(N3Cc4c[nH]nc4C3)CO2)cc1',\n",
       " 'O=C(NCCNCC(=O)N1CCCC1)c1cnc2ccnn2c1',\n",
       " 'O=c1[nH]c2nc(N3CCCCC3)[nH]c2c(=O)n1Cc1ncc2ccccc2n1',\n",
       " 'O=C1CCCCN1CCCC(=O)N1CCc2cncnc2C1',\n",
       " 'O=C1CN(C(=O)CCCc2ccccc2)CCN1',\n",
       " 'O=C(C1CC(N2CCN(c3ccnn3-c3ccccc3)CC2)CN1)N1CCSC1',\n",
       " 'O=C(C1CC(N2CCN(c3ncccn3)CC2)CN1)N1CCCC1']"
      ]
     },
     "execution_count": 5,
     "metadata": {},
     "output_type": "execute_result"
    }
   ],
   "source": [
    "sca_list"
   ]
  },
  {
   "cell_type": "code",
   "execution_count": null,
   "metadata": {},
   "outputs": [],
   "source": []
  }
 ],
 "metadata": {
  "kernelspec": {
   "display_name": "Python 3",
   "language": "python",
   "name": "python3"
  },
  "language_info": {
   "codemirror_mode": {
    "name": "ipython",
    "version": 3
   },
   "file_extension": ".py",
   "mimetype": "text/x-python",
   "name": "python",
   "nbconvert_exporter": "python",
   "pygments_lexer": "ipython3",
   "version": "3.7.7"
  }
 },
 "nbformat": 4,
 "nbformat_minor": 4
}
