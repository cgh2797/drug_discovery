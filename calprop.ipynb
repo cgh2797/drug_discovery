{
 "cells": [
  {
   "cell_type": "code",
   "execution_count": 1,
   "metadata": {},
   "outputs": [],
   "source": [
    "from rdkit.Chem.Descriptors import ExactMolWt\n",
    "from rdkit.Chem.Crippen import MolLogP\n",
    "from rdkit.Chem.rdMolDescriptors import CalcNumHBD\n",
    "from rdkit.Chem.rdMolDescriptors import CalcNumHBA\n",
    "from rdkit.Chem.rdMolDescriptors import CalcTPSA\n",
    "from rdkit import Chem\n",
    "from multiprocessing import Pool\n",
    "import argparse"
   ]
  },
  {
   "cell_type": "code",
   "execution_count": 2,
   "metadata": {},
   "outputs": [],
   "source": [
    "def cal_prop(s):\n",
    "    m = Chem.MolFromSmiles(s)\n",
    "    if m is None : return None\n",
    "    return Chem.MolToSmiles(m), ExactMolWt(m), MolLogP(m), CalcTPSA(m)\n",
    "    #return Chem.MolToSmiles(m), ExactMolWt(m), MolLogP(m), CalcNumHBD(m), CalcNumHBA(m), CalcTPSA(m)"
   ]
  },
  {
   "cell_type": "code",
   "execution_count": 4,
   "metadata": {},
   "outputs": [],
   "source": [
    "\n",
    "with open('smiles.txt') as f:\n",
    "    smiles = f.read().split('\\n')[:-1]\n",
    "  \n",
    "\n",
    "# data= pool.map_async(cal_prop, smiles)\n",
    "data=[]\n",
    "for i in smiles:\n",
    "    temp=cal_prop(i)\n",
    "    data.append(temp)\n",
    "\n",
    "\n",
    "\n"
   ]
  },
  {
   "cell_type": "code",
   "execution_count": 10,
   "metadata": {},
   "outputs": [],
   "source": [
    "w = open('smiles_prop.txt', 'w')\n",
    "for d in data:\n",
    "    if d is None:\n",
    "        continue\n",
    "    w.write(d[0] + '\\t' + str(d[1]) + '\\t'+ str(d[2]) + '\\t'+ str(d[3]) + '\\n')\n",
    "w.close()    "
   ]
  },
  {
   "cell_type": "code",
   "execution_count": null,
   "metadata": {},
   "outputs": [],
   "source": []
  }
 ],
 "metadata": {
  "kernelspec": {
   "display_name": "Python 3",
   "language": "python",
   "name": "python3"
  },
  "language_info": {
   "codemirror_mode": {
    "name": "ipython",
    "version": 3
   },
   "file_extension": ".py",
   "mimetype": "text/x-python",
   "name": "python",
   "nbconvert_exporter": "python",
   "pygments_lexer": "ipython3",
   "version": "3.6.12"
  }
 },
 "nbformat": 4,
 "nbformat_minor": 4
}
