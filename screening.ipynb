{
 "cells": [
  {
   "cell_type": "code",
   "execution_count": 1,
   "metadata": {},
   "outputs": [
    {
     "name": "stderr",
     "output_type": "stream",
     "text": [
      "C:\\Users\\chris\\anaconda3\\envs\\rdkit\\lib\\site-packages\\ipykernel_launcher.py:4: DeprecationWarning: The rdkit.Chem.MCS module is deprecated; please use rdkit.Chem.rdFMCS instead.\n",
      "  after removing the cwd from sys.path.\n",
      "\n",
      "Bad key savefig.frameon in file C:\\Users\\chris\\anaconda3\\envs\\rdkit\\lib\\site-packages\\matplotlib\\mpl-data\\stylelib\\_classic_test.mplstyle, line 421 ('savefig.frameon : True')\n",
      "You probably need to get an updated matplotlibrc file from\n",
      "https://github.com/matplotlib/matplotlib/blob/v3.3.1/matplotlibrc.template\n",
      "or from the matplotlib source distribution\n",
      "\n",
      "Bad key verbose.level in file C:\\Users\\chris\\anaconda3\\envs\\rdkit\\lib\\site-packages\\matplotlib\\mpl-data\\stylelib\\_classic_test.mplstyle, line 472 ('verbose.level  : silent      # one of silent, helpful, debug, debug-annoying')\n",
      "You probably need to get an updated matplotlibrc file from\n",
      "https://github.com/matplotlib/matplotlib/blob/v3.3.1/matplotlibrc.template\n",
      "or from the matplotlib source distribution\n",
      "\n",
      "Bad key verbose.fileo in file C:\\Users\\chris\\anaconda3\\envs\\rdkit\\lib\\site-packages\\matplotlib\\mpl-data\\stylelib\\_classic_test.mplstyle, line 473 ('verbose.fileo  : sys.stdout  # a log filename, sys.stdout or sys.stderr')\n",
      "You probably need to get an updated matplotlibrc file from\n",
      "https://github.com/matplotlib/matplotlib/blob/v3.3.1/matplotlibrc.template\n",
      "or from the matplotlib source distribution\n",
      "In C:\\Users\\chris\\anaconda3\\envs\\rdkit\\lib\\site-packages\\matplotlib\\mpl-data\\stylelib\\_classic_test.mplstyle: \n",
      "The text.latex.preview rcparam was deprecated in Matplotlib 3.3 and will be removed two minor releases later.\n",
      "In C:\\Users\\chris\\anaconda3\\envs\\rdkit\\lib\\site-packages\\matplotlib\\mpl-data\\stylelib\\_classic_test.mplstyle: \n",
      "The mathtext.fallback_to_cm rcparam was deprecated in Matplotlib 3.3 and will be removed two minor releases later.\n",
      "In C:\\Users\\chris\\anaconda3\\envs\\rdkit\\lib\\site-packages\\matplotlib\\mpl-data\\stylelib\\_classic_test.mplstyle: Support for setting the 'mathtext.fallback_to_cm' rcParam is deprecated since 3.3 and will be removed two minor releases later; use 'mathtext.fallback : 'cm' instead.\n",
      "In C:\\Users\\chris\\anaconda3\\envs\\rdkit\\lib\\site-packages\\matplotlib\\mpl-data\\stylelib\\_classic_test.mplstyle: \n",
      "The validate_bool_maybe_none function was deprecated in Matplotlib 3.3 and will be removed two minor releases later.\n",
      "In C:\\Users\\chris\\anaconda3\\envs\\rdkit\\lib\\site-packages\\matplotlib\\mpl-data\\stylelib\\_classic_test.mplstyle: \n",
      "The savefig.jpeg_quality rcparam was deprecated in Matplotlib 3.3 and will be removed two minor releases later.\n",
      "In C:\\Users\\chris\\anaconda3\\envs\\rdkit\\lib\\site-packages\\matplotlib\\mpl-data\\stylelib\\_classic_test.mplstyle: \n",
      "The keymap.all_axes rcparam was deprecated in Matplotlib 3.3 and will be removed two minor releases later.\n",
      "In C:\\Users\\chris\\anaconda3\\envs\\rdkit\\lib\\site-packages\\matplotlib\\mpl-data\\stylelib\\_classic_test.mplstyle: \n",
      "The animation.avconv_path rcparam was deprecated in Matplotlib 3.3 and will be removed two minor releases later.\n",
      "In C:\\Users\\chris\\anaconda3\\envs\\rdkit\\lib\\site-packages\\matplotlib\\mpl-data\\stylelib\\_classic_test.mplstyle: \n",
      "The animation.avconv_args rcparam was deprecated in Matplotlib 3.3 and will be removed two minor releases later.\n"
     ]
    }
   ],
   "source": [
    "import sys\n",
    "sys.path.append('/usr/local/lib/python3.7/site-packages/')\n",
    "\n",
    "from rdkit.Chem import MCS\n",
    "from rdkit import Chem\n",
    "from rdkit.Chem import Draw\n",
    "from rdkit.Chem.Draw import IPythonConsole\n",
    "from rdkit.Chem import Descriptors\n",
    "from rdkit.Chem import AllChem\n",
    "from rdkit import DataStructs\n",
    "from rdkit.Chem import rdFMCS\n",
    "from rdkit.Chem import rdMolDescriptors\n",
    "\n",
    "import numpy as np\n",
    "import pandas as pd\n",
    "import seaborn as sns\n",
    "\n",
    "\n",
    "#descriptor\n",
    "from rdkit.Chem.Descriptors import ExactMolWt\n",
    "from rdkit.Chem.Crippen import MolLogP\n",
    "from rdkit.Chem.rdMolDescriptors import CalcNumHBD\n",
    "from rdkit.Chem.rdMolDescriptors import CalcNumHBA\n",
    "from rdkit.Chem.rdMolDescriptors import CalcTPSA\n",
    "\n",
    "import matplotlib.pyplot as plt"
   ]
  },
  {
   "cell_type": "code",
   "execution_count": 2,
   "metadata": {},
   "outputs": [],
   "source": [
    "data= pd.read_excel('tinib_139_after_preprocess_1.xlsx')"
   ]
  },
  {
   "cell_type": "code",
   "execution_count": 3,
   "metadata": {},
   "outputs": [],
   "source": [
    "#data = pd.read_csv('tinib_139.txt')"
   ]
  },
  {
   "cell_type": "code",
   "execution_count": 4,
   "metadata": {},
   "outputs": [],
   "source": [
    "smiles_list=data['smiles']"
   ]
  },
  {
   "cell_type": "code",
   "execution_count": 5,
   "metadata": {},
   "outputs": [],
   "source": [
    "mol_list=[]\n",
    "for smiles in smiles_list:\n",
    "    mol=Chem.MolFromSmiles(smiles)\n",
    "    mol_list.append(mol)"
   ]
  },
  {
   "cell_type": "code",
   "execution_count": 6,
   "metadata": {},
   "outputs": [],
   "source": [
    "result=[]\n",
    "for i in  range(len(mol_list)) :\n",
    "    try:\n",
    "        Chem.QED.properties(mol_list[i])\n",
    "        result.append(True)\n",
    "    except:\n",
    "        result.append(False)"
   ]
  },
  {
   "cell_type": "code",
   "execution_count": 7,
   "metadata": {},
   "outputs": [],
   "source": [
    "data['result']=result"
   ]
  },
  {
   "cell_type": "code",
   "execution_count": 8,
   "metadata": {},
   "outputs": [],
   "source": [
    "data1=data[result]"
   ]
  },
  {
   "cell_type": "code",
   "execution_count": 9,
   "metadata": {},
   "outputs": [],
   "source": [
    "data2=data1.reset_index(drop=True)"
   ]
  },
  {
   "cell_type": "code",
   "execution_count": 10,
   "metadata": {},
   "outputs": [
    {
     "data": {
      "text/html": [
       "<div>\n",
       "<style scoped>\n",
       "    .dataframe tbody tr th:only-of-type {\n",
       "        vertical-align: middle;\n",
       "    }\n",
       "\n",
       "    .dataframe tbody tr th {\n",
       "        vertical-align: top;\n",
       "    }\n",
       "\n",
       "    .dataframe thead th {\n",
       "        text-align: right;\n",
       "    }\n",
       "</style>\n",
       "<table border=\"1\" class=\"dataframe\">\n",
       "  <thead>\n",
       "    <tr style=\"text-align: right;\">\n",
       "      <th></th>\n",
       "      <th>Unnamed: 0</th>\n",
       "      <th>smiles</th>\n",
       "      <th>result</th>\n",
       "    </tr>\n",
       "  </thead>\n",
       "  <tbody>\n",
       "    <tr>\n",
       "      <th>0</th>\n",
       "      <td>0</td>\n",
       "      <td>C1(C)CC(c2ccncc2NC(=O)c2c(N)ccc(C3CCCCC3)n2)CC...</td>\n",
       "      <td>True</td>\n",
       "    </tr>\n",
       "    <tr>\n",
       "      <th>1</th>\n",
       "      <td>1</td>\n",
       "      <td>c1(N(C2CCCNC2)C)ccc(Nc2ncc3c(n(C4CCCC4)c4c3ccn...</td>\n",
       "      <td>True</td>\n",
       "    </tr>\n",
       "    <tr>\n",
       "      <th>2</th>\n",
       "      <td>2</td>\n",
       "      <td>c12c(cc(I)cc1)C(=CNCc1cc(O)c(OC)cc1)C(=O)NC2=O</td>\n",
       "      <td>True</td>\n",
       "    </tr>\n",
       "    <tr>\n",
       "      <th>3</th>\n",
       "      <td>3</td>\n",
       "      <td>N1(C(c2c(C)nc(Nc3nc4n(C5CCCC5)c5c(ccnc5)c4cn3)...</td>\n",
       "      <td>True</td>\n",
       "    </tr>\n",
       "    <tr>\n",
       "      <th>4</th>\n",
       "      <td>4</td>\n",
       "      <td>n1nc(Nc2ncc3c4c(cncc4)n(C4CCCC4)c3n2)ccc1CC1CCNC1</td>\n",
       "      <td>True</td>\n",
       "    </tr>\n",
       "    <tr>\n",
       "      <th>...</th>\n",
       "      <td>...</td>\n",
       "      <td>...</td>\n",
       "      <td>...</td>\n",
       "    </tr>\n",
       "    <tr>\n",
       "      <th>2751</th>\n",
       "      <td>2751</td>\n",
       "      <td>c1(F)c(-c2c(F)cccc2F)nc(C(Nc2cnccc2N2CC(N)C(O)...</td>\n",
       "      <td>True</td>\n",
       "    </tr>\n",
       "    <tr>\n",
       "      <th>2752</th>\n",
       "      <td>2752</td>\n",
       "      <td>C1N(c2cnc(Nc3ncc4c(n3)n(C3CCCC3)c3cnccc34)cc2)...</td>\n",
       "      <td>True</td>\n",
       "    </tr>\n",
       "    <tr>\n",
       "      <th>2753</th>\n",
       "      <td>2753</td>\n",
       "      <td>c1c(F)c(-c2c(F)ccc(C(=O)Nc3cnccc3N3CC(C)C(O)C(...</td>\n",
       "      <td>True</td>\n",
       "    </tr>\n",
       "    <tr>\n",
       "      <th>2754</th>\n",
       "      <td>2754</td>\n",
       "      <td>C1(C)CN(c2ccncc2NC(=O)c2ccc(F)c(-c3c(F)cccc3F)...</td>\n",
       "      <td>True</td>\n",
       "    </tr>\n",
       "    <tr>\n",
       "      <th>2755</th>\n",
       "      <td>2755</td>\n",
       "      <td>CC1CN(c2cnc(Nc3nc4c(c5c(cncc5)n4C4CCCC4)cn3)cc...</td>\n",
       "      <td>True</td>\n",
       "    </tr>\n",
       "  </tbody>\n",
       "</table>\n",
       "<p>2756 rows × 3 columns</p>\n",
       "</div>"
      ],
      "text/plain": [
       "      Unnamed: 0                                             smiles  result\n",
       "0              0  C1(C)CC(c2ccncc2NC(=O)c2c(N)ccc(C3CCCCC3)n2)CC...    True\n",
       "1              1  c1(N(C2CCCNC2)C)ccc(Nc2ncc3c(n(C4CCCC4)c4c3ccn...    True\n",
       "2              2     c12c(cc(I)cc1)C(=CNCc1cc(O)c(OC)cc1)C(=O)NC2=O    True\n",
       "3              3  N1(C(c2c(C)nc(Nc3nc4n(C5CCCC5)c5c(ccnc5)c4cn3)...    True\n",
       "4              4  n1nc(Nc2ncc3c4c(cncc4)n(C4CCCC4)c3n2)ccc1CC1CCNC1    True\n",
       "...          ...                                                ...     ...\n",
       "2751        2751  c1(F)c(-c2c(F)cccc2F)nc(C(Nc2cnccc2N2CC(N)C(O)...    True\n",
       "2752        2752  C1N(c2cnc(Nc3ncc4c(n3)n(C3CCCC3)c3cnccc34)cc2)...    True\n",
       "2753        2753  c1c(F)c(-c2c(F)ccc(C(=O)Nc3cnccc3N3CC(C)C(O)C(...    True\n",
       "2754        2754  C1(C)CN(c2ccncc2NC(=O)c2ccc(F)c(-c3c(F)cccc3F)...    True\n",
       "2755        2755  CC1CN(c2cnc(Nc3nc4c(c5c(cncc5)n4C4CCCC4)cn3)cc...    True\n",
       "\n",
       "[2756 rows x 3 columns]"
      ]
     },
     "execution_count": 10,
     "metadata": {},
     "output_type": "execute_result"
    }
   ],
   "source": [
    "data2"
   ]
  },
  {
   "cell_type": "code",
   "execution_count": 11,
   "metadata": {},
   "outputs": [],
   "source": [
    "del data2['Unnamed: 0']"
   ]
  },
  {
   "cell_type": "code",
   "execution_count": 12,
   "metadata": {},
   "outputs": [],
   "source": [
    "del data2['result']"
   ]
  },
  {
   "cell_type": "code",
   "execution_count": 13,
   "metadata": {},
   "outputs": [
    {
     "data": {
      "text/html": [
       "<div>\n",
       "<style scoped>\n",
       "    .dataframe tbody tr th:only-of-type {\n",
       "        vertical-align: middle;\n",
       "    }\n",
       "\n",
       "    .dataframe tbody tr th {\n",
       "        vertical-align: top;\n",
       "    }\n",
       "\n",
       "    .dataframe thead th {\n",
       "        text-align: right;\n",
       "    }\n",
       "</style>\n",
       "<table border=\"1\" class=\"dataframe\">\n",
       "  <thead>\n",
       "    <tr style=\"text-align: right;\">\n",
       "      <th></th>\n",
       "      <th>smiles</th>\n",
       "    </tr>\n",
       "  </thead>\n",
       "  <tbody>\n",
       "    <tr>\n",
       "      <th>0</th>\n",
       "      <td>C1(C)CC(c2ccncc2NC(=O)c2c(N)ccc(C3CCCCC3)n2)CC...</td>\n",
       "    </tr>\n",
       "    <tr>\n",
       "      <th>1</th>\n",
       "      <td>c1(N(C2CCCNC2)C)ccc(Nc2ncc3c(n(C4CCCC4)c4c3ccn...</td>\n",
       "    </tr>\n",
       "    <tr>\n",
       "      <th>2</th>\n",
       "      <td>c12c(cc(I)cc1)C(=CNCc1cc(O)c(OC)cc1)C(=O)NC2=O</td>\n",
       "    </tr>\n",
       "    <tr>\n",
       "      <th>3</th>\n",
       "      <td>N1(C(c2c(C)nc(Nc3nc4n(C5CCCC5)c5c(ccnc5)c4cn3)...</td>\n",
       "    </tr>\n",
       "    <tr>\n",
       "      <th>4</th>\n",
       "      <td>n1nc(Nc2ncc3c4c(cncc4)n(C4CCCC4)c3n2)ccc1CC1CCNC1</td>\n",
       "    </tr>\n",
       "    <tr>\n",
       "      <th>...</th>\n",
       "      <td>...</td>\n",
       "    </tr>\n",
       "    <tr>\n",
       "      <th>2751</th>\n",
       "      <td>c1(F)c(-c2c(F)cccc2F)nc(C(Nc2cnccc2N2CC(N)C(O)...</td>\n",
       "    </tr>\n",
       "    <tr>\n",
       "      <th>2752</th>\n",
       "      <td>C1N(c2cnc(Nc3ncc4c(n3)n(C3CCCC3)c3cnccc34)cc2)...</td>\n",
       "    </tr>\n",
       "    <tr>\n",
       "      <th>2753</th>\n",
       "      <td>c1c(F)c(-c2c(F)ccc(C(=O)Nc3cnccc3N3CC(C)C(O)C(...</td>\n",
       "    </tr>\n",
       "    <tr>\n",
       "      <th>2754</th>\n",
       "      <td>C1(C)CN(c2ccncc2NC(=O)c2ccc(F)c(-c3c(F)cccc3F)...</td>\n",
       "    </tr>\n",
       "    <tr>\n",
       "      <th>2755</th>\n",
       "      <td>CC1CN(c2cnc(Nc3nc4c(c5c(cncc5)n4C4CCCC4)cn3)cc...</td>\n",
       "    </tr>\n",
       "  </tbody>\n",
       "</table>\n",
       "<p>2756 rows × 1 columns</p>\n",
       "</div>"
      ],
      "text/plain": [
       "                                                 smiles\n",
       "0     C1(C)CC(c2ccncc2NC(=O)c2c(N)ccc(C3CCCCC3)n2)CC...\n",
       "1     c1(N(C2CCCNC2)C)ccc(Nc2ncc3c(n(C4CCCC4)c4c3ccn...\n",
       "2        c12c(cc(I)cc1)C(=CNCc1cc(O)c(OC)cc1)C(=O)NC2=O\n",
       "3     N1(C(c2c(C)nc(Nc3nc4n(C5CCCC5)c5c(ccnc5)c4cn3)...\n",
       "4     n1nc(Nc2ncc3c4c(cncc4)n(C4CCCC4)c3n2)ccc1CC1CCNC1\n",
       "...                                                 ...\n",
       "2751  c1(F)c(-c2c(F)cccc2F)nc(C(Nc2cnccc2N2CC(N)C(O)...\n",
       "2752  C1N(c2cnc(Nc3ncc4c(n3)n(C3CCCC3)c3cnccc34)cc2)...\n",
       "2753  c1c(F)c(-c2c(F)ccc(C(=O)Nc3cnccc3N3CC(C)C(O)C(...\n",
       "2754  C1(C)CN(c2ccncc2NC(=O)c2ccc(F)c(-c3c(F)cccc3F)...\n",
       "2755  CC1CN(c2cnc(Nc3nc4c(c5c(cncc5)n4C4CCCC4)cn3)cc...\n",
       "\n",
       "[2756 rows x 1 columns]"
      ]
     },
     "execution_count": 13,
     "metadata": {},
     "output_type": "execute_result"
    }
   ],
   "source": [
    "data2"
   ]
  },
  {
   "cell_type": "code",
   "execution_count": 14,
   "metadata": {},
   "outputs": [],
   "source": [
    "smiles_list2=data2['smiles']"
   ]
  },
  {
   "cell_type": "code",
   "execution_count": 15,
   "metadata": {},
   "outputs": [],
   "source": [
    "#smiles_list2.to_csv(\"smiles2.txt\",index=False)"
   ]
  },
  {
   "cell_type": "code",
   "execution_count": 16,
   "metadata": {},
   "outputs": [],
   "source": [
    "mol_list2=[]\n",
    "for smiles in smiles_list2:\n",
    "    mol=Chem.MolFromSmiles(smiles)\n",
    "    mol_list2.append(mol)"
   ]
  },
  {
   "cell_type": "code",
   "execution_count": 17,
   "metadata": {},
   "outputs": [],
   "source": [
    "MW=[]\n",
    "for smiles in mol_list2:\n",
    "    mol=ExactMolWt(smiles)\n",
    "    MW.append(mol)"
   ]
  },
  {
   "cell_type": "code",
   "execution_count": 18,
   "metadata": {},
   "outputs": [],
   "source": [
    "LogP=[]\n",
    "for smiles in mol_list2:\n",
    "    mol=MolLogP(smiles)\n",
    "    LogP.append(mol)"
   ]
  },
  {
   "cell_type": "code",
   "execution_count": 19,
   "metadata": {},
   "outputs": [],
   "source": [
    "HBD=[]\n",
    "for smiles in mol_list2:\n",
    "    mol=CalcNumHBD(smiles)\n",
    "    HBD.append(mol)"
   ]
  },
  {
   "cell_type": "code",
   "execution_count": 20,
   "metadata": {},
   "outputs": [],
   "source": [
    "HBA=[]\n",
    "for smiles in mol_list2:\n",
    "    mol=CalcNumHBA(smiles)\n",
    "    HBA.append(mol)"
   ]
  },
  {
   "cell_type": "code",
   "execution_count": 21,
   "metadata": {},
   "outputs": [],
   "source": [
    "TPSA=[]\n",
    "for smiles in mol_list2:\n",
    "    mol=CalcTPSA(smiles)\n",
    "    TPSA.append(mol)"
   ]
  },
  {
   "cell_type": "code",
   "execution_count": 22,
   "metadata": {},
   "outputs": [],
   "source": [
    "HBAD=[]\n",
    "for smiles in mol_list2:\n",
    "    mol=CalcNumHBD(smiles)+CalcNumHBA(smiles)\n",
    "    HBAD.append(mol)"
   ]
  },
  {
   "cell_type": "code",
   "execution_count": 23,
   "metadata": {},
   "outputs": [],
   "source": [
    "rota=[]\n",
    "for smiles in mol_list2:\n",
    "    mol=rdMolDescriptors.CalcNumRotatableBonds(smiles)\n",
    "    rota.append(mol)"
   ]
  },
  {
   "cell_type": "code",
   "execution_count": 24,
   "metadata": {},
   "outputs": [],
   "source": [
    "#data1.to_csv(\"test.txt\",index=False,sep=\"\\t\")"
   ]
  },
  {
   "cell_type": "code",
   "execution_count": 25,
   "metadata": {},
   "outputs": [
    {
     "data": {
      "text/plain": [
       "<AxesSubplot:ylabel='Count'>"
      ]
     },
     "execution_count": 25,
     "metadata": {},
     "output_type": "execute_result"
    },
    {
     "data": {
      "image/png": "[encoded data removed]",
      "text/plain": [
       "<Figure size 432x288 with 1 Axes>"
      ]
     },
     "metadata": {
      "needs_background": "light"
     },
     "output_type": "display_data"
    }
   ],
   "source": [
    "sns.histplot(MW)"
   ]
  },
  {
   "cell_type": "code",
   "execution_count": 39,
   "metadata": {},
   "outputs": [
    {
     "data": {
      "text/plain": [
       "Text(0.5, 1.0, 'HBA+HBD')"
      ]
     },
     "execution_count": 39,
     "metadata": {},
     "output_type": "execute_result"
    },
    {
     "data": {
      "image/png": "[encoded data removed]",
      "text/plain": [
       "<Figure size 432x288 with 1 Axes>"
      ]
     },
     "metadata": {
      "needs_background": "light"
     },
     "output_type": "display_data"
    }
   ],
   "source": [
    "sns.histplot(HBAD).set_title('HBA+HBD')"
   ]
  },
  {
   "cell_type": "code",
   "execution_count": 38,
   "metadata": {},
   "outputs": [
    {
     "data": {
      "text/plain": [
       "Text(0.5, 1.0, 'rotatable bond')"
      ]
     },
     "execution_count": 38,
     "metadata": {},
     "output_type": "execute_result"
    },
    {
     "data": {
      "image/png": "[encoded data removed]",
      "text/plain": [
       "<Figure size 432x288 with 1 Axes>"
      ]
     },
     "metadata": {
      "needs_background": "light"
     },
     "output_type": "display_data"
    }
   ],
   "source": [
    "sns.histplot(rota).set_title('rotatable bond')"
   ]
  },
  {
   "cell_type": "code",
   "execution_count": 28,
   "metadata": {
    "scrolled": true
   },
   "outputs": [
    {
     "name": "stderr",
     "output_type": "stream",
     "text": [
      "C:\\Users\\chris\\anaconda3\\envs\\rdkit\\lib\\site-packages\\seaborn\\distributions.py:2551: FutureWarning: `distplot` is a deprecated function and will be removed in a future version. Please adapt your code to use either `displot` (a figure-level function with similar flexibility) or `histplot` (an axes-level function for histograms).\n",
      "  warnings.warn(msg, FutureWarning)\n",
      "C:\\Users\\chris\\anaconda3\\envs\\rdkit\\lib\\site-packages\\seaborn\\distributions.py:2551: FutureWarning: `distplot` is a deprecated function and will be removed in a future version. Please adapt your code to use either `displot` (a figure-level function with similar flexibility) or `histplot` (an axes-level function for histograms).\n",
      "  warnings.warn(msg, FutureWarning)\n",
      "C:\\Users\\chris\\anaconda3\\envs\\rdkit\\lib\\site-packages\\seaborn\\distributions.py:2551: FutureWarning: `distplot` is a deprecated function and will be removed in a future version. Please adapt your code to use either `displot` (a figure-level function with similar flexibility) or `histplot` (an axes-level function for histograms).\n",
      "  warnings.warn(msg, FutureWarning)\n",
      "C:\\Users\\chris\\anaconda3\\envs\\rdkit\\lib\\site-packages\\seaborn\\distributions.py:2551: FutureWarning: `distplot` is a deprecated function and will be removed in a future version. Please adapt your code to use either `displot` (a figure-level function with similar flexibility) or `histplot` (an axes-level function for histograms).\n",
      "  warnings.warn(msg, FutureWarning)\n",
      "C:\\Users\\chris\\anaconda3\\envs\\rdkit\\lib\\site-packages\\seaborn\\distributions.py:2551: FutureWarning: `distplot` is a deprecated function and will be removed in a future version. Please adapt your code to use either `displot` (a figure-level function with similar flexibility) or `histplot` (an axes-level function for histograms).\n",
      "  warnings.warn(msg, FutureWarning)\n"
     ]
    },
    {
     "data": {
      "text/plain": [
       "Text(0.5, 1.0, 'TPSA')"
      ]
     },
     "execution_count": 28,
     "metadata": {},
     "output_type": "execute_result"
    },
    {
     "data": {
      "image/png": "[encoded data removed]",
      "text/plain": [
       "<Figure size 1800x360 with 5 Axes>"
      ]
     },
     "metadata": {
      "needs_background": "light"
     },
     "output_type": "display_data"
    }
   ],
   "source": [
    "fig, ax = plt.subplots(ncols=5,figsize=(25, 5))\n",
    "sns.distplot(MW,ax=ax[0])\n",
    "ax[0].set_title('MW')\n",
    "\n",
    "sns.distplot(LogP,ax=ax[1])\n",
    "ax[1].set_title('LogP')\n",
    "\n",
    "sns.distplot(HBD,ax=ax[2])\n",
    "ax[2].set_title('HBD')\n",
    "\n",
    "sns.distplot(HBA,ax=ax[3])\n",
    "ax[3].set_title('HBA')\n",
    "\n",
    "sns.distplot(TPSA,ax=ax[4])\n",
    "ax[4].set_title('TPSA')\n",
    "#plt.show()\n",
    "\n"
   ]
  },
  {
   "cell_type": "code",
   "execution_count": 29,
   "metadata": {},
   "outputs": [],
   "source": [
    "data2['MW']=MW\n",
    "data2['LogP']=LogP\n",
    "data2['HBA']=HBA\n",
    "data2['HBD']=HBD\n",
    "data2['TPSA']=TPSA\n",
    "data2['HBA_HBD']=HBAD\n",
    "data2['rotational bond']=rota"
   ]
  },
  {
   "cell_type": "code",
   "execution_count": 30,
   "metadata": {},
   "outputs": [
    {
     "data": {
      "text/html": [
       "<div>\n",
       "<style scoped>\n",
       "    .dataframe tbody tr th:only-of-type {\n",
       "        vertical-align: middle;\n",
       "    }\n",
       "\n",
       "    .dataframe tbody tr th {\n",
       "        vertical-align: top;\n",
       "    }\n",
       "\n",
       "    .dataframe thead th {\n",
       "        text-align: right;\n",
       "    }\n",
       "</style>\n",
       "<table border=\"1\" class=\"dataframe\">\n",
       "  <thead>\n",
       "    <tr style=\"text-align: right;\">\n",
       "      <th></th>\n",
       "      <th>smiles</th>\n",
       "      <th>MW</th>\n",
       "      <th>LogP</th>\n",
       "      <th>HBA</th>\n",
       "      <th>HBD</th>\n",
       "      <th>TPSA</th>\n",
       "      <th>HBA_HBD</th>\n",
       "      <th>rotational bond</th>\n",
       "    </tr>\n",
       "  </thead>\n",
       "  <tbody>\n",
       "    <tr>\n",
       "      <th>0</th>\n",
       "      <td>C1(C)CC(c2ccncc2NC(=O)c2c(N)ccc(C3CCCCC3)n2)CC...</td>\n",
       "      <td>407.268511</td>\n",
       "      <td>4.58970</td>\n",
       "      <td>5</td>\n",
       "      <td>3</td>\n",
       "      <td>106.92</td>\n",
       "      <td>8</td>\n",
       "      <td>4</td>\n",
       "    </tr>\n",
       "    <tr>\n",
       "      <th>1</th>\n",
       "      <td>c1(N(C2CCCNC2)C)ccc(Nc2ncc3c(n(C4CCCC4)c4c3ccn...</td>\n",
       "      <td>442.259343</td>\n",
       "      <td>4.42140</td>\n",
       "      <td>8</td>\n",
       "      <td>2</td>\n",
       "      <td>83.79</td>\n",
       "      <td>10</td>\n",
       "      <td>5</td>\n",
       "    </tr>\n",
       "    <tr>\n",
       "      <th>2</th>\n",
       "      <td>c12c(cc(I)cc1)C(=CNCc1cc(O)c(OC)cc1)C(=O)NC2=O</td>\n",
       "      <td>450.007655</td>\n",
       "      <td>2.40610</td>\n",
       "      <td>5</td>\n",
       "      <td>3</td>\n",
       "      <td>87.66</td>\n",
       "      <td>8</td>\n",
       "      <td>4</td>\n",
       "    </tr>\n",
       "    <tr>\n",
       "      <th>3</th>\n",
       "      <td>N1(C(c2c(C)nc(Nc3nc4n(C5CCCC5)c5c(ccnc5)c4cn3)...</td>\n",
       "      <td>456.238608</td>\n",
       "      <td>3.58702</td>\n",
       "      <td>8</td>\n",
       "      <td>2</td>\n",
       "      <td>100.86</td>\n",
       "      <td>10</td>\n",
       "      <td>4</td>\n",
       "    </tr>\n",
       "    <tr>\n",
       "      <th>4</th>\n",
       "      <td>n1nc(Nc2ncc3c4c(cncc4)n(C4CCCC4)c3n2)ccc1CC1CCNC1</td>\n",
       "      <td>414.228043</td>\n",
       "      <td>3.78020</td>\n",
       "      <td>8</td>\n",
       "      <td>2</td>\n",
       "      <td>93.44</td>\n",
       "      <td>10</td>\n",
       "      <td>5</td>\n",
       "    </tr>\n",
       "    <tr>\n",
       "      <th>...</th>\n",
       "      <td>...</td>\n",
       "      <td>...</td>\n",
       "      <td>...</td>\n",
       "      <td>...</td>\n",
       "      <td>...</td>\n",
       "      <td>...</td>\n",
       "      <td>...</td>\n",
       "      <td>...</td>\n",
       "    </tr>\n",
       "    <tr>\n",
       "      <th>2751</th>\n",
       "      <td>c1(F)c(-c2c(F)cccc2F)nc(C(Nc2cnccc2N2CC(N)C(O)...</td>\n",
       "      <td>475.163138</td>\n",
       "      <td>3.09660</td>\n",
       "      <td>6</td>\n",
       "      <td>3</td>\n",
       "      <td>104.37</td>\n",
       "      <td>9</td>\n",
       "      <td>4</td>\n",
       "    </tr>\n",
       "    <tr>\n",
       "      <th>2752</th>\n",
       "      <td>C1N(c2cnc(Nc3ncc4c(n3)n(C3CCCC3)c3cnccc34)cc2)...</td>\n",
       "      <td>442.259343</td>\n",
       "      <td>4.42140</td>\n",
       "      <td>8</td>\n",
       "      <td>2</td>\n",
       "      <td>83.79</td>\n",
       "      <td>10</td>\n",
       "      <td>4</td>\n",
       "    </tr>\n",
       "    <tr>\n",
       "      <th>2753</th>\n",
       "      <td>c1c(F)c(-c2c(F)ccc(C(=O)Nc3cnccc3N3CC(C)C(O)C(...</td>\n",
       "      <td>457.172560</td>\n",
       "      <td>2.95750</td>\n",
       "      <td>6</td>\n",
       "      <td>3</td>\n",
       "      <td>104.37</td>\n",
       "      <td>9</td>\n",
       "      <td>4</td>\n",
       "    </tr>\n",
       "    <tr>\n",
       "      <th>2754</th>\n",
       "      <td>C1(C)CN(c2ccncc2NC(=O)c2ccc(F)c(-c3c(F)cccc3F)...</td>\n",
       "      <td>456.177311</td>\n",
       "      <td>4.26630</td>\n",
       "      <td>5</td>\n",
       "      <td>2</td>\n",
       "      <td>78.35</td>\n",
       "      <td>7</td>\n",
       "      <td>4</td>\n",
       "    </tr>\n",
       "    <tr>\n",
       "      <th>2755</th>\n",
       "      <td>CC1CN(c2cnc(Nc3nc4c(c5c(cncc5)n4C4CCCC4)cn3)cc...</td>\n",
       "      <td>498.285558</td>\n",
       "      <td>4.73770</td>\n",
       "      <td>9</td>\n",
       "      <td>1</td>\n",
       "      <td>84.23</td>\n",
       "      <td>10</td>\n",
       "      <td>5</td>\n",
       "    </tr>\n",
       "  </tbody>\n",
       "</table>\n",
       "<p>2756 rows × 8 columns</p>\n",
       "</div>"
      ],
      "text/plain": [
       "                                                 smiles          MW     LogP  \\\n",
       "0     C1(C)CC(c2ccncc2NC(=O)c2c(N)ccc(C3CCCCC3)n2)CC...  407.268511  4.58970   \n",
       "1     c1(N(C2CCCNC2)C)ccc(Nc2ncc3c(n(C4CCCC4)c4c3ccn...  442.259343  4.42140   \n",
       "2        c12c(cc(I)cc1)C(=CNCc1cc(O)c(OC)cc1)C(=O)NC2=O  450.007655  2.40610   \n",
       "3     N1(C(c2c(C)nc(Nc3nc4n(C5CCCC5)c5c(ccnc5)c4cn3)...  456.238608  3.58702   \n",
       "4     n1nc(Nc2ncc3c4c(cncc4)n(C4CCCC4)c3n2)ccc1CC1CCNC1  414.228043  3.78020   \n",
       "...                                                 ...         ...      ...   \n",
       "2751  c1(F)c(-c2c(F)cccc2F)nc(C(Nc2cnccc2N2CC(N)C(O)...  475.163138  3.09660   \n",
       "2752  C1N(c2cnc(Nc3ncc4c(n3)n(C3CCCC3)c3cnccc34)cc2)...  442.259343  4.42140   \n",
       "2753  c1c(F)c(-c2c(F)ccc(C(=O)Nc3cnccc3N3CC(C)C(O)C(...  457.172560  2.95750   \n",
       "2754  C1(C)CN(c2ccncc2NC(=O)c2ccc(F)c(-c3c(F)cccc3F)...  456.177311  4.26630   \n",
       "2755  CC1CN(c2cnc(Nc3nc4c(c5c(cncc5)n4C4CCCC4)cn3)cc...  498.285558  4.73770   \n",
       "\n",
       "      HBA  HBD    TPSA  HBA_HBD  rotational bond  \n",
       "0       5    3  106.92        8                4  \n",
       "1       8    2   83.79       10                5  \n",
       "2       5    3   87.66        8                4  \n",
       "3       8    2  100.86       10                4  \n",
       "4       8    2   93.44       10                5  \n",
       "...   ...  ...     ...      ...              ...  \n",
       "2751    6    3  104.37        9                4  \n",
       "2752    8    2   83.79       10                4  \n",
       "2753    6    3  104.37        9                4  \n",
       "2754    5    2   78.35        7                4  \n",
       "2755    9    1   84.23       10                5  \n",
       "\n",
       "[2756 rows x 8 columns]"
      ]
     },
     "execution_count": 30,
     "metadata": {},
     "output_type": "execute_result"
    }
   ],
   "source": [
    "data2"
   ]
  },
  {
   "cell_type": "code",
   "execution_count": 31,
   "metadata": {},
   "outputs": [],
   "source": [
    "filter1=data2['MW']>=300\n",
    "filter2=data2['MW']<=700\n",
    "filter3=data2['LogP']>=2.0\n",
    "filter4=data2['LogP']<=6.0\n",
    "filter5=data2['HBD']>=2.0\n",
    "filter6=data2['HBD']<=6.0\n",
    "filter7=data2['HBA']>=0\n",
    "filter8=data2['HBA']<=12.0\n",
    "filter9=data2['HBA_HBD']<=14.0\n",
    "filter10=data2['TPSA']>=60.0\n",
    "filter11=data2['TPSA']<=140.0\n",
    "filter12=data2['rotational bond']<=12.0\n",
    "totalfilter=filter1&filter2&filter3&filter4&filter5&filter6&filter7&filter8&filter9&filter10&filter11&filter12"
   ]
  },
  {
   "cell_type": "code",
   "execution_count": 32,
   "metadata": {},
   "outputs": [],
   "source": [
    "data3=data2[totalfilter]"
   ]
  },
  {
   "cell_type": "code",
   "execution_count": 33,
   "metadata": {},
   "outputs": [],
   "source": [
    "data3=data3.reset_index(drop=True)"
   ]
  },
  {
   "cell_type": "code",
   "execution_count": 34,
   "metadata": {},
   "outputs": [
    {
     "data": {
      "text/html": [
       "<div>\n",
       "<style scoped>\n",
       "    .dataframe tbody tr th:only-of-type {\n",
       "        vertical-align: middle;\n",
       "    }\n",
       "\n",
       "    .dataframe tbody tr th {\n",
       "        vertical-align: top;\n",
       "    }\n",
       "\n",
       "    .dataframe thead th {\n",
       "        text-align: right;\n",
       "    }\n",
       "</style>\n",
       "<table border=\"1\" class=\"dataframe\">\n",
       "  <thead>\n",
       "    <tr style=\"text-align: right;\">\n",
       "      <th></th>\n",
       "      <th>smiles</th>\n",
       "      <th>MW</th>\n",
       "      <th>LogP</th>\n",
       "      <th>HBA</th>\n",
       "      <th>HBD</th>\n",
       "      <th>TPSA</th>\n",
       "      <th>HBA_HBD</th>\n",
       "      <th>rotational bond</th>\n",
       "    </tr>\n",
       "  </thead>\n",
       "  <tbody>\n",
       "    <tr>\n",
       "      <th>0</th>\n",
       "      <td>C1(C)CC(c2ccncc2NC(=O)c2c(N)ccc(C3CCCCC3)n2)CC...</td>\n",
       "      <td>407.268511</td>\n",
       "      <td>4.58970</td>\n",
       "      <td>5</td>\n",
       "      <td>3</td>\n",
       "      <td>106.92</td>\n",
       "      <td>8</td>\n",
       "      <td>4</td>\n",
       "    </tr>\n",
       "    <tr>\n",
       "      <th>1</th>\n",
       "      <td>c1(N(C2CCCNC2)C)ccc(Nc2ncc3c(n(C4CCCC4)c4c3ccn...</td>\n",
       "      <td>442.259343</td>\n",
       "      <td>4.42140</td>\n",
       "      <td>8</td>\n",
       "      <td>2</td>\n",
       "      <td>83.79</td>\n",
       "      <td>10</td>\n",
       "      <td>5</td>\n",
       "    </tr>\n",
       "    <tr>\n",
       "      <th>2</th>\n",
       "      <td>c12c(cc(I)cc1)C(=CNCc1cc(O)c(OC)cc1)C(=O)NC2=O</td>\n",
       "      <td>450.007655</td>\n",
       "      <td>2.40610</td>\n",
       "      <td>5</td>\n",
       "      <td>3</td>\n",
       "      <td>87.66</td>\n",
       "      <td>8</td>\n",
       "      <td>4</td>\n",
       "    </tr>\n",
       "    <tr>\n",
       "      <th>3</th>\n",
       "      <td>N1(C(c2c(C)nc(Nc3nc4n(C5CCCC5)c5c(ccnc5)c4cn3)...</td>\n",
       "      <td>456.238608</td>\n",
       "      <td>3.58702</td>\n",
       "      <td>8</td>\n",
       "      <td>2</td>\n",
       "      <td>100.86</td>\n",
       "      <td>10</td>\n",
       "      <td>4</td>\n",
       "    </tr>\n",
       "    <tr>\n",
       "      <th>4</th>\n",
       "      <td>n1nc(Nc2ncc3c4c(cncc4)n(C4CCCC4)c3n2)ccc1CC1CCNC1</td>\n",
       "      <td>414.228043</td>\n",
       "      <td>3.78020</td>\n",
       "      <td>8</td>\n",
       "      <td>2</td>\n",
       "      <td>93.44</td>\n",
       "      <td>10</td>\n",
       "      <td>5</td>\n",
       "    </tr>\n",
       "    <tr>\n",
       "      <th>...</th>\n",
       "      <td>...</td>\n",
       "      <td>...</td>\n",
       "      <td>...</td>\n",
       "      <td>...</td>\n",
       "      <td>...</td>\n",
       "      <td>...</td>\n",
       "      <td>...</td>\n",
       "      <td>...</td>\n",
       "    </tr>\n",
       "    <tr>\n",
       "      <th>2061</th>\n",
       "      <td>Fc1ccc(C)c(F)c1-c1nc(C(=O)Nc2cnccc2C2CC(N)CC(C...</td>\n",
       "      <td>442.163889</td>\n",
       "      <td>5.27492</td>\n",
       "      <td>5</td>\n",
       "      <td>2</td>\n",
       "      <td>80.90</td>\n",
       "      <td>7</td>\n",
       "      <td>4</td>\n",
       "    </tr>\n",
       "    <tr>\n",
       "      <th>2062</th>\n",
       "      <td>c1(F)c(-c2c(F)cccc2F)nc(C(Nc2cnccc2N2CC(N)C(O)...</td>\n",
       "      <td>475.163138</td>\n",
       "      <td>3.09660</td>\n",
       "      <td>6</td>\n",
       "      <td>3</td>\n",
       "      <td>104.37</td>\n",
       "      <td>9</td>\n",
       "      <td>4</td>\n",
       "    </tr>\n",
       "    <tr>\n",
       "      <th>2063</th>\n",
       "      <td>C1N(c2cnc(Nc3ncc4c(n3)n(C3CCCC3)c3cnccc34)cc2)...</td>\n",
       "      <td>442.259343</td>\n",
       "      <td>4.42140</td>\n",
       "      <td>8</td>\n",
       "      <td>2</td>\n",
       "      <td>83.79</td>\n",
       "      <td>10</td>\n",
       "      <td>4</td>\n",
       "    </tr>\n",
       "    <tr>\n",
       "      <th>2064</th>\n",
       "      <td>c1c(F)c(-c2c(F)ccc(C(=O)Nc3cnccc3N3CC(C)C(O)C(...</td>\n",
       "      <td>457.172560</td>\n",
       "      <td>2.95750</td>\n",
       "      <td>6</td>\n",
       "      <td>3</td>\n",
       "      <td>104.37</td>\n",
       "      <td>9</td>\n",
       "      <td>4</td>\n",
       "    </tr>\n",
       "    <tr>\n",
       "      <th>2065</th>\n",
       "      <td>C1(C)CN(c2ccncc2NC(=O)c2ccc(F)c(-c3c(F)cccc3F)...</td>\n",
       "      <td>456.177311</td>\n",
       "      <td>4.26630</td>\n",
       "      <td>5</td>\n",
       "      <td>2</td>\n",
       "      <td>78.35</td>\n",
       "      <td>7</td>\n",
       "      <td>4</td>\n",
       "    </tr>\n",
       "  </tbody>\n",
       "</table>\n",
       "<p>2066 rows × 8 columns</p>\n",
       "</div>"
      ],
      "text/plain": [
       "                                                 smiles          MW     LogP  \\\n",
       "0     C1(C)CC(c2ccncc2NC(=O)c2c(N)ccc(C3CCCCC3)n2)CC...  407.268511  4.58970   \n",
       "1     c1(N(C2CCCNC2)C)ccc(Nc2ncc3c(n(C4CCCC4)c4c3ccn...  442.259343  4.42140   \n",
       "2        c12c(cc(I)cc1)C(=CNCc1cc(O)c(OC)cc1)C(=O)NC2=O  450.007655  2.40610   \n",
       "3     N1(C(c2c(C)nc(Nc3nc4n(C5CCCC5)c5c(ccnc5)c4cn3)...  456.238608  3.58702   \n",
       "4     n1nc(Nc2ncc3c4c(cncc4)n(C4CCCC4)c3n2)ccc1CC1CCNC1  414.228043  3.78020   \n",
       "...                                                 ...         ...      ...   \n",
       "2061  Fc1ccc(C)c(F)c1-c1nc(C(=O)Nc2cnccc2C2CC(N)CC(C...  442.163889  5.27492   \n",
       "2062  c1(F)c(-c2c(F)cccc2F)nc(C(Nc2cnccc2N2CC(N)C(O)...  475.163138  3.09660   \n",
       "2063  C1N(c2cnc(Nc3ncc4c(n3)n(C3CCCC3)c3cnccc34)cc2)...  442.259343  4.42140   \n",
       "2064  c1c(F)c(-c2c(F)ccc(C(=O)Nc3cnccc3N3CC(C)C(O)C(...  457.172560  2.95750   \n",
       "2065  C1(C)CN(c2ccncc2NC(=O)c2ccc(F)c(-c3c(F)cccc3F)...  456.177311  4.26630   \n",
       "\n",
       "      HBA  HBD    TPSA  HBA_HBD  rotational bond  \n",
       "0       5    3  106.92        8                4  \n",
       "1       8    2   83.79       10                5  \n",
       "2       5    3   87.66        8                4  \n",
       "3       8    2  100.86       10                4  \n",
       "4       8    2   93.44       10                5  \n",
       "...   ...  ...     ...      ...              ...  \n",
       "2061    5    2   80.90        7                4  \n",
       "2062    6    3  104.37        9                4  \n",
       "2063    8    2   83.79       10                4  \n",
       "2064    6    3  104.37        9                4  \n",
       "2065    5    2   78.35        7                4  \n",
       "\n",
       "[2066 rows x 8 columns]"
      ]
     },
     "execution_count": 34,
     "metadata": {},
     "output_type": "execute_result"
    }
   ],
   "source": [
    "data3"
   ]
  },
  {
   "cell_type": "code",
   "execution_count": null,
   "metadata": {},
   "outputs": [],
   "source": []
  }
 ],
 "metadata": {
  "kernelspec": {
   "display_name": "Python 3",
   "language": "python",
   "name": "python3"
  },
  "language_info": {
   "codemirror_mode": {
    "name": "ipython",
    "version": 3
   },
   "file_extension": ".py",
   "mimetype": "text/x-python",
   "name": "python",
   "nbconvert_exporter": "python",
   "pygments_lexer": "ipython3",
   "version": "3.6.12"
  }
 },
 "nbformat": 4,
 "nbformat_minor": 4
}
