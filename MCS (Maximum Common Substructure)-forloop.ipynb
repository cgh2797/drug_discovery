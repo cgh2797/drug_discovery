{
 "cells": [
  {
   "cell_type": "code",
   "execution_count": 1,
   "metadata": {},
   "outputs": [
    {
     "name": "stderr",
     "output_type": "stream",
     "text": [
      "C:\\Users\\chris\\anaconda3\\envs\\rdkit\\lib\\site-packages\\ipykernel_launcher.py:3: DeprecationWarning: The rdkit.Chem.MCS module is deprecated; please use rdkit.Chem.rdFMCS instead.\n",
      "  This is separate from the ipykernel package so we can avoid doing imports until\n"
     ]
    }
   ],
   "source": [
    "import sys\n",
    "sys.path.append('/usr/local/lib/python3.7/site-packages/')\n",
    "from rdkit.Chem import MCS\n",
    "from rdkit import Chem\n",
    "from rdkit.Chem import Draw\n",
    "from rdkit.Chem.Draw import IPythonConsole\n",
    "from rdkit.Chem import Descriptors\n",
    "from rdkit.Chem import AllChem\n",
    "from rdkit import DataStructs\n",
    "from rdkit.Chem import rdFMCS\n",
    "from rdkit import rdBase\n",
    "\n",
    "from rdkit.Chem import rdMolDescriptors\n",
    "\n",
    "import numpy as np\n",
    "import pandas as pd"
   ]
  },
  {
   "cell_type": "markdown",
   "metadata": {},
   "source": [
    "# 여기부터 시작"
   ]
  },
  {
   "cell_type": "code",
   "execution_count": 2,
   "metadata": {},
   "outputs": [
    {
     "name": "stderr",
     "output_type": "stream",
     "text": [
      "C:\\Users\\chris\\anaconda3\\envs\\rdkit\\lib\\site-packages\\ipykernel\\ipkernel.py:287: DeprecationWarning: `should_run_async` will not call `transform_cell` automatically in the future. Please pass the result to `transformed_cell` argument and any exception that happen during thetransform in `preprocessing_exc_tuple` in IPython 7.17 and above.\n",
      "  and should_run_async(code)\n"
     ]
    }
   ],
   "source": [
    "\n",
    "def label(a): \n",
    "    return 100*int(a.GetHybridization())+a.GetAtomicNum()"
   ]
  },
  {
   "cell_type": "code",
   "execution_count": 3,
   "metadata": {},
   "outputs": [],
   "source": [
    "data= pd.read_csv('MCS_smiles.txt')"
   ]
  },
  {
   "cell_type": "code",
   "execution_count": 4,
   "metadata": {},
   "outputs": [],
   "source": [
    "smiles_list=data['smiles']"
   ]
  },
  {
   "cell_type": "code",
   "execution_count": 5,
   "metadata": {},
   "outputs": [
    {
     "name": "stdout",
     "output_type": "stream",
     "text": [
      "len(smiles_list): 8 \n",
      "-finished-\n",
      "Cc1[nH]c(/C=C2\\C(=O)Nc3ccccc32)c(C)c1C(=O)NCC\n"
     ]
    },
    {
     "name": "stderr",
     "output_type": "stream",
     "text": [
      "C:\\Users\\chris\\anaconda3\\envs\\rdkit\\lib\\site-packages\\ipykernel_launcher.py:10: DeprecationWarning: The rdkit.Chem.MCS module is deprecated; please use rdkit.Chem.rdFMCS instead.\n",
      "  # Remove the CWD from sys.path while we load stuff.\n",
      "C:\\Users\\chris\\anaconda3\\envs\\rdkit\\lib\\site-packages\\ipykernel_launcher.py:25: DeprecationWarning: The rdkit.Chem.MCS module is deprecated; please use rdkit.Chem.rdFMCS instead.\n"
     ]
    }
   ],
   "source": [
    "for i in range (len(smiles_list)):\n",
    "    if i==0:\n",
    "        smis=[smiles_list[0],\n",
    "          smiles_list[1]]\n",
    "        ms = [Chem.MolFromSmiles(x) for x in smis]\n",
    "        nms = [Chem.Mol(x) for x in ms]\n",
    "        for nm in nms:\n",
    "            for at in nm.GetAtoms():\n",
    "                at.SetIsotope(label(at))\n",
    "        mcs=MCS.FindMCS(nms,atomCompare='isotopes')\n",
    "        mcs.smarts\n",
    "        mcsp = Chem.MolFromSmarts(mcs.smarts)\n",
    "        match = nms[0].GetSubstructMatch(mcsp)\n",
    "        tmp=Chem.MolFragmentToSmiles(ms[0],atomsToUse=match,isomericSmiles=True,canonical=False)\n",
    "        #smi\n",
    "        #core = Chem.MolFromSmiles(smi)\n",
    "        #core\n",
    "    elif 0<i and i< (len(smiles_list)-1):\n",
    "        smis=[smiles_list[i+1],tmp]\n",
    "        ms = [Chem.MolFromSmiles(x) for x in smis]\n",
    "        nms = [Chem.Mol(x) for x in ms]\n",
    "        for nm in nms:\n",
    "            for at in nm.GetAtoms():\n",
    "                at.SetIsotope(label(at))\n",
    "        mcs=MCS.FindMCS(nms,atomCompare='isotopes')\n",
    "        mcs.smarts\n",
    "        mcsp = Chem.MolFromSmarts(mcs.smarts)\n",
    "        match = nms[0].GetSubstructMatch(mcsp)\n",
    "        tmp=Chem.MolFragmentToSmiles(ms[0],atomsToUse=match,isomericSmiles=True,canonical=False)\n",
    "        #smi\n",
    "        core = Chem.MolFromSmiles(tmp)\n",
    "        #core\n",
    "    elif i==(len(smiles_list)-1):\n",
    "        sms=tmp\n",
    "        print(\"len(smiles_list):\" ,len(smiles_list), \"\\n-finished-\")\n",
    "        print(sms)\n",
    "        "
   ]
  },
  {
   "cell_type": "code",
   "execution_count": 6,
   "metadata": {},
   "outputs": [
    {
     "data": {
      "text/plain": [
       "'Cc1[nH]c(/C=C2\\\\C(=O)Nc3ccccc32)c(C)c1C(=O)NCC'"
      ]
     },
     "execution_count": 6,
     "metadata": {},
     "output_type": "execute_result"
    }
   ],
   "source": [
    "sms"
   ]
  },
  {
   "cell_type": "code",
   "execution_count": 7,
   "metadata": {},
   "outputs": [
    {
     "data": {
      "image/png": "[encoded data removed]",
      "text/plain": [
       "<rdkit.Chem.rdchem.Mol at 0x156e3101cb0>"
      ]
     },
     "execution_count": 7,
     "metadata": {},
     "output_type": "execute_result"
    }
   ],
   "source": [
    "core"
   ]
  },
  {
   "cell_type": "code",
   "execution_count": 8,
   "metadata": {},
   "outputs": [
    {
     "data": {
      "text/plain": [
       "0    CCN(CC)CCNC(=O)c1c(C)[nH]c(/C=C/2\\C(=O)Nc3ccc(...\n",
       "1    CCN(CC)CCNC(=O)c1c(C)[nH]c(/C=C/2\\C(=O)Nc3ccc(...\n",
       "2    CCN(CC)CCNC(=O)c1c(C)[nH]c(/C=C/2\\C(=O)Nc3ccc(...\n",
       "3    CCN(CC)CCN1CCc2[nH]c(/C=C/3\\C(=O)Nc4ccc(F)cc34...\n",
       "4    Cc1c(/C=C/2\\C(=O)Nc3ccc(F)cc23)[nH]c2c1C(=O)N(...\n",
       "5    CCN(CC)CCNC(=O)c1c(C)[nH]c(/C=C/2\\C(=O)Nc3ccc(...\n",
       "6    CCN(CC)CCNC(=O)c1c(C)[nH]c2c1CCC/C/2=C\\1/C(=O)...\n",
       "7    Cc1[nH]c(/C=C/2\\C(=O)Nc3ccc(F)cc23)c(C)c1C(=O)...\n",
       "Name: smiles, dtype: object"
      ]
     },
     "execution_count": 8,
     "metadata": {},
     "output_type": "execute_result"
    }
   ],
   "source": [
    "smiles_list"
   ]
  },
  {
   "cell_type": "code",
   "execution_count": 9,
   "metadata": {},
   "outputs": [
    {
     "data": {
      "text/plain": [
       "8"
      ]
     },
     "execution_count": 9,
     "metadata": {},
     "output_type": "execute_result"
    }
   ],
   "source": [
    "len(smiles_list)"
   ]
  }
 ],
 "metadata": {
  "kernelspec": {
   "display_name": "Python 3",
   "language": "python",
   "name": "python3"
  },
  "language_info": {
   "codemirror_mode": {
    "name": "ipython",
    "version": 3
   },
   "file_extension": ".py",
   "mimetype": "text/x-python",
   "name": "python",
   "nbconvert_exporter": "python",
   "pygments_lexer": "ipython3",
   "version": "3.7.7"
  }
 },
 "nbformat": 4,
 "nbformat_minor": 4
}
